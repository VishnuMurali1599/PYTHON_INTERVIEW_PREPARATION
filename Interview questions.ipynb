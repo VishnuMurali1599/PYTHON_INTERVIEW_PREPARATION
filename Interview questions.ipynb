{
 "cells": [
  {
   "cell_type": "markdown",
   "metadata": {},
   "source": [
    "# if Statements"
   ]
  },
  {
   "cell_type": "code",
   "execution_count": 55,
   "metadata": {},
   "outputs": [
    {
     "name": "stdout",
     "output_type": "stream",
     "text": [
      "enter the number : 66\n",
      "The incrementing value  of entered number is :  67\n"
     ]
    }
   ],
   "source": [
    "#increment the value by 1\n",
    "n=int(input(\"enter the number : \"))\n",
    "if n%2!=0 or n%2==0:\n",
    "    n2=n+1\n",
    "    print(\"The incrementing value  of entered number is : \", n2)\n",
    "else:\n",
    "    print('something wrong')"
   ]
  },
  {
   "cell_type": "code",
   "execution_count": 61,
   "metadata": {},
   "outputs": [
    {
     "name": "stdout",
     "output_type": "stream",
     "text": [
      "Enter your age to check vote eligibility : 25\n",
      "Yes... you are eligible for vote \n"
     ]
    }
   ],
   "source": [
    "#Determine weather a person is eligible to vote by using  input \n",
    "age=int(input(\"Enter your age to check vote eligibility : \"))\n",
    "if age>=18:\n",
    "    print(\"Yes... you are eligible for vote \")"
   ]
  },
  {
   "cell_type": "code",
   "execution_count": 65,
   "metadata": {},
   "outputs": [
    {
     "name": "stdout",
     "output_type": "stream",
     "text": [
      "Enter your age to check vote eligibility : 18\n",
      "Sorry >>> ..not eligible \n"
     ]
    }
   ],
   "source": [
    "age=int(input(\"Enter your age to check vote eligibility : \"))\n",
    "if age<=18:\n",
    "    print(\"Sorry >>> ..not eligible \")"
   ]
  },
  {
   "cell_type": "markdown",
   "metadata": {},
   "source": [
    "# if - else Statements"
   ]
  },
  {
   "cell_type": "code",
   "execution_count": 59,
   "metadata": {},
   "outputs": [
    {
     "name": "stdout",
     "output_type": "stream",
     "text": [
      "Enter your age to check vote eligibility : 15\n",
      "Sorry you sholud be above 18,so not eligible for vote\n"
     ]
    }
   ],
   "source": [
    "#Determine weather a person is eligible to vote by using input \n",
    "age=int(input(\"Enter your age to check vote eligibility : \"))\n",
    "if age>=18:\n",
    "    print(\"Yes... you are eligible for vote \")\n",
    "else:\n",
    "    print(\"Sorry you sholud be above 18,so not eligible for vote\")"
   ]
  },
  {
   "cell_type": "code",
   "execution_count": 60,
   "metadata": {},
   "outputs": [
    {
     "name": "stdout",
     "output_type": "stream",
     "text": [
      "Enter your age to check vote eligibility : 25\n",
      "Yes... you are eligible for vote \n"
     ]
    }
   ],
   "source": [
    "age=int(input(\"Enter your age to check vote eligibility : \"))\n",
    "if age>=18:\n",
    "    print(\"Yes... you are eligible for vote \")\n",
    "else:\n",
    "    print(\"Sorry you sholud be above 18,so not eligible for vote\")"
   ]
  },
  {
   "cell_type": "code",
   "execution_count": 67,
   "metadata": {},
   "outputs": [
    {
     "name": "stdout",
     "output_type": "stream",
     "text": [
      "Enter the Number : 56\n",
      "56 is a even number\n"
     ]
    }
   ],
   "source": [
    "#find the number is even or odd by using input \n",
    "number = int(input(\"Enter the Number : \"))\n",
    "if number%2==0:\n",
    "    print(f\"{number} is a even number\")\n",
    "else:\n",
    "    print(f\"{number} is a odd number\")\n",
    "    "
   ]
  },
  {
   "cell_type": "code",
   "execution_count": 68,
   "metadata": {},
   "outputs": [
    {
     "name": "stdout",
     "output_type": "stream",
     "text": [
      "Enter the Number : 99\n",
      "99 is a odd number\n"
     ]
    }
   ],
   "source": [
    "number = int(input(\"Enter the Number : \"))\n",
    "if number%2==0:\n",
    "    print(f\"{number} is a even number\")\n",
    "else:\n",
    "    print(f\"{number} is a odd number\")\n",
    "    "
   ]
  },
  {
   "cell_type": "code",
   "execution_count": 27,
   "metadata": {},
   "outputs": [],
   "source": [
    "# A company decides to give bonus to all its employees on New year. A 10% bonus on \n",
    "salary for all the male workers and\n",
    "# 25% to females. build a programme to enter Salary and Gender(m or F) of employee. \n"
   ]
  },
  {
   "cell_type": "code",
   "execution_count": null,
   "metadata": {},
   "outputs": [],
   "source": []
  },
  {
   "cell_type": "markdown",
   "metadata": {},
   "source": [
    "# if -elif- else Statement"
   ]
  },
  {
   "cell_type": "code",
   "execution_count": 69,
   "metadata": {
    "scrolled": true
   },
   "outputs": [
    {
     "name": "stdout",
     "output_type": "stream",
     "text": [
      "Enter the Number : 25\n",
      "the enterd number is positive\n"
     ]
    }
   ],
   "source": [
    "# check weather the number is positive or negitive or equal to zero using input\n",
    "number = int(input(\"Enter the Number : \"))\n",
    "if number%2==0:\n",
    "    print(\"The number is equal to zero \")\n",
    "elif number%2<0:\n",
    "    print(\"The entered number is negative\")\n",
    "else:\n",
    "    print(\"the enterd number is positive\")"
   ]
  },
  {
   "cell_type": "code",
   "execution_count": 70,
   "metadata": {},
   "outputs": [
    {
     "name": "stdout",
     "output_type": "stream",
     "text": [
      "Enter the Number : -25\n",
      "the enterd number is positive\n"
     ]
    }
   ],
   "source": [
    "number = int(input(\"Enter the Number : \"))\n",
    "if number%2==0:\n",
    "    print(\"The number is equal to zero \")\n",
    "elif number%2<0:\n",
    "    print(\"The entered number is negative\")\n",
    "else:\n",
    "    print(\"the enterd number is positive\")"
   ]
  },
  {
   "cell_type": "code",
   "execution_count": 75,
   "metadata": {},
   "outputs": [
    {
     "name": "stdout",
     "output_type": "stream",
     "text": [
      "Enter the Number : 0\n",
      "The number is equal to zero \n"
     ]
    }
   ],
   "source": [
    "number = int(input(\"Enter the Number : \"))\n",
    "if number==0:\n",
    "    print(\"The number is equal to zero \")\n",
    "elif number < 0:\n",
    "    print(\"The entered number is negative\")\n",
    "else:\n",
    "    print(\"the enterd number is positive\")"
   ]
  },
  {
   "cell_type": "code",
   "execution_count": 76,
   "metadata": {},
   "outputs": [
    {
     "name": "stdout",
     "output_type": "stream",
     "text": [
      "Enter the Number : 25\n",
      "the enterd number is positive\n"
     ]
    }
   ],
   "source": [
    "number = int(input(\"Enter the Number : \"))\n",
    "if number==0:\n",
    "    print(\"The number is equal to zero \")\n",
    "elif number<0:\n",
    "    print(\"The entered number is negative\")\n",
    "else:\n",
    "    print(\"the enterd number is positive\")"
   ]
  },
  {
   "cell_type": "code",
   "execution_count": 78,
   "metadata": {},
   "outputs": [
    {
     "name": "stdout",
     "output_type": "stream",
     "text": [
      "enter the character :  p\n",
      " p is  not vowel\n"
     ]
    }
   ],
   "source": [
    "# Test Weather the charcter is vowel or not vowel using input\n",
    "char=input('enter the character :  ')\n",
    "if char==\"a\" or char==\"e\" or char==\"i\":\n",
    "    print(f\" {char} is vowel\")\n",
    "elif char==\"o\" or char==\"u\":\n",
    "    print(f\" {char} is vowel\")\n",
    "else:\n",
    "    print(f\" {char} is  not vowel\")"
   ]
  },
  {
   "cell_type": "code",
   "execution_count": 79,
   "metadata": {},
   "outputs": [
    {
     "name": "stdout",
     "output_type": "stream",
     "text": [
      "enter the character :  o\n",
      " o is vowel\n"
     ]
    }
   ],
   "source": [
    "char=input('enter the character :  ')\n",
    "if char==\"a\" or char==\"e\" or char==\"i\":\n",
    "    print(f\" {char} is vowel\")\n",
    "elif char==\"o\" or char==\"u\":\n",
    "    print(f\" {char} is vowel\")\n",
    "else:\n",
    "    print(f\" {char} is  not vowel\")"
   ]
  },
  {
   "cell_type": "code",
   "execution_count": 98,
   "metadata": {},
   "outputs": [
    {
     "name": "stdout",
     "output_type": "stream",
     "text": [
      "enter the number : 25\n",
      " The enterd number is odd\n"
     ]
    }
   ],
   "source": [
    "#Given an integer input perform the following conditional actions:\n",
    "\n",
    "#If n is odd, print odd\n",
    "#If n is even and in the inclusive range of 2 to 5, print small\n",
    "#If n is even and in the inclusive range of 6 to 20, print medium\n",
    "#If n is even and greater than 20, print big\n",
    "\n",
    "num=int(input(\"enter the number : \"))\n",
    "if num%2!=0:\n",
    "    print(\" The enterd number is odd\")\n",
    "elif num%2==0:\n",
    "        if num>2  and num<5:\n",
    "            print(\"it is even number ,but range is small\")\n",
    "        elif num>6 and num<20:\n",
    "            print(\"it is even number , but range is medium\")\n",
    "        else:\n",
    "            print(\"it is a even number ,but range is big\")\n",
    "else:\n",
    "    print('wrong input')"
   ]
  },
  {
   "cell_type": "code",
   "execution_count": 100,
   "metadata": {},
   "outputs": [
    {
     "name": "stdout",
     "output_type": "stream",
     "text": [
      "enter the number : 4\n",
      "it is even number ,but range is small\n"
     ]
    }
   ],
   "source": [
    "num=int(input(\"enter the number : \"))\n",
    "if num%2!=0:\n",
    "    print(\" The enterd number is odd\")\n",
    "elif num%2==0:\n",
    "        if num>2  and num<5:\n",
    "            print(\"it is even number ,but range is small\")\n",
    "        elif num>6 and num<20:\n",
    "            print(\"it is even number , but range is medium\")\n",
    "        else:\n",
    "            print(\"it is a even number ,but range is big\")\n",
    "else:\n",
    "    print('wrong input')"
   ]
  },
  {
   "cell_type": "code",
   "execution_count": 101,
   "metadata": {},
   "outputs": [
    {
     "name": "stdout",
     "output_type": "stream",
     "text": [
      "enter the number : 14\n",
      "it is even number , but range is medium\n"
     ]
    }
   ],
   "source": [
    "num=int(input(\"enter the number : \"))\n",
    "if num%2!=0:\n",
    "    print(\" The enterd number is odd\")\n",
    "elif num%2==0:\n",
    "        if num>2  and num<5:\n",
    "            print(\"it is even number ,but range is small\")\n",
    "        elif num>6 and num<20:\n",
    "            print(\"it is even number , but range is medium\")\n",
    "        else:\n",
    "            print(\"it is a even number ,but range is big\")\n",
    "else:\n",
    "    print('wrong input')"
   ]
  },
  {
   "cell_type": "code",
   "execution_count": 102,
   "metadata": {},
   "outputs": [
    {
     "name": "stdout",
     "output_type": "stream",
     "text": [
      "enter the number : 26\n",
      "it is a even number ,but range is big\n"
     ]
    }
   ],
   "source": [
    "num=int(input(\"enter the number : \"))\n",
    "if num%2!=0:\n",
    "    print(\" The enterd number is odd\")\n",
    "elif num%2==0:\n",
    "        if num>2  and num<5:\n",
    "            print(\"it is even number ,but range is small\")\n",
    "        elif num>6 and num<20:\n",
    "            print(\"it is even number , but range is medium\")\n",
    "        else:\n",
    "            print(\"it is a even number ,but range is big\")\n",
    "else:\n",
    "    print('wrong input')"
   ]
  },
  {
   "cell_type": "code",
   "execution_count": null,
   "metadata": {},
   "outputs": [],
   "source": []
  },
  {
   "cell_type": "markdown",
   "metadata": {},
   "source": [
    "# while loop "
   ]
  },
  {
   "cell_type": "code",
   "execution_count": 104,
   "metadata": {},
   "outputs": [
    {
     "name": "stdout",
     "output_type": "stream",
     "text": [
      "1\n",
      "2\n",
      "3\n",
      "4\n",
      "5\n",
      "6\n",
      "7\n",
      "8\n",
      "9\n",
      "10\n"
     ]
    }
   ],
   "source": [
    "# write a program to print 10 numbers\n",
    "a=1\n",
    "b=11\n",
    "while a<b:\n",
    "    print(a)\n",
    "    a+=1"
   ]
  },
  {
   "cell_type": "code",
   "execution_count": 2,
   "metadata": {},
   "outputs": [
    {
     "name": "stdout",
     "output_type": "stream",
     "text": [
      "The sum of first  ten number is : 55\n",
      "The average of first ten number is :  5.5\n"
     ]
    }
   ],
   "source": [
    "# find average and sum for first 10 numbers \n",
    "a=1\n",
    "sum1=0\n",
    "while a<11:\n",
    "    sum1=sum1+a\n",
    "    a+=1\n",
    "    average1=sum1/10\n",
    "print(\"The sum of first  ten number is :\", sum1)\n",
    "print(\"The average of first ten number is : \",average1)"
   ]
  },
  {
   "cell_type": "code",
   "execution_count": 124,
   "metadata": {},
   "outputs": [
    {
     "name": "stdout",
     "output_type": "stream",
     "text": [
      "___________________________________________________________________________________________________"
     ]
    }
   ],
   "source": [
    "#Draw a line using while loop \n",
    "a=1\n",
    "b=100\n",
    "while a<b:\n",
    "    print(\"_\",end=\"\")\n",
    "    a+=1"
   ]
  },
  {
   "cell_type": "code",
   "execution_count": 27,
   "metadata": {},
   "outputs": [
    {
     "name": "stdout",
     "output_type": "stream",
     "text": [
      "Enter the starting number (m): 10\n",
      "Enter the ending number (n): 20\n",
      "The sum of numbers from 10 to 20 is: 165\n"
     ]
    }
   ],
   "source": [
    "#calculate the sum of m to n  numbers using input\n",
    "m = int(input(\"Enter the starting number (m): \"))\n",
    "n = int(input(\"Enter the ending number (n): \"))\n",
    "\n",
    "sum_of_numbers = 0\n",
    "\n",
    "for i in range(m, n+1):\n",
    "    sum_of_numbers += i\n",
    "\n",
    "print(\"The sum of numbers from\", m, \"to\", n, \"is:\", sum_of_numbers)\n"
   ]
  },
  {
   "cell_type": "code",
   "execution_count": 28,
   "metadata": {},
   "outputs": [
    {
     "name": "stdout",
     "output_type": "stream",
     "text": [
      "Enter the starting number: 10\n",
      "10\n",
      "9\n",
      "8\n",
      "7\n",
      "6\n",
      "5\n",
      "4\n",
      "3\n",
      "2\n",
      "1\n",
      "0\n"
     ]
    }
   ],
   "source": [
    "# countdown 10 to 0 using input\n",
    "n = int(input(\"Enter the starting number: \"))\n",
    "\n",
    "while n >= 0:\n",
    "    print(n)\n",
    "    n -= 1"
   ]
  },
  {
   "cell_type": "markdown",
   "metadata": {},
   "source": [
    "# for loop "
   ]
  },
  {
   "cell_type": "code",
   "execution_count": 13,
   "metadata": {},
   "outputs": [
    {
     "name": "stdout",
     "output_type": "stream",
     "text": [
      " enter the number: 5\n",
      "5 * 1 = 5\n",
      "5 * 2 = 10\n",
      "5 * 3 = 15\n",
      "5 * 4 = 20\n",
      "5 * 5 = 25\n",
      "5 * 6 = 30\n",
      "5 * 7 = 35\n",
      "5 * 8 = 40\n",
      "5 * 9 = 45\n",
      "5 * 10 = 50\n"
     ]
    }
   ],
   "source": [
    "#Multiplication table using input\n",
    "number=int(input(\" enter the number: \"))\n",
    "for i in range(1,11):\n",
    "    result=number*i\n",
    "    print(number,\"*\",i,\"=\",result)"
   ]
  },
  {
   "cell_type": "code",
   "execution_count": 25,
   "metadata": {},
   "outputs": [
    {
     "name": "stdout",
     "output_type": "stream",
     "text": [
      "0 even      1 odd\n",
      "2 even      3 odd\n",
      "4 even      5 odd\n",
      "6 even      7 odd\n",
      "8 even      9 odd\n",
      "10 even      11 odd\n",
      "12 even      13 odd\n",
      "14 even      15 odd\n",
      "16 even      17 odd\n",
      "18 even      19 odd\n"
     ]
    }
   ],
   "source": [
    "#print even and odd for range of number\n",
    "for i in range(0,20):\n",
    "    if i%2==0:\n",
    "        print(i,\"even\",end=\"      \")\n",
    "    elif i%2!=0:\n",
    "        print(i,\"odd\")"
   ]
  },
  {
   "cell_type": "code",
   "execution_count": 38,
   "metadata": {},
   "outputs": [
    {
     "name": "stdout",
     "output_type": "stream",
     "text": [
      "10\n",
      "20\n",
      "30\n",
      "40\n"
     ]
    }
   ],
   "source": [
    "# break statement\n",
    "a=[10,20,30,40,50,60,70,80,90,100]\n",
    "for i in a:\n",
    "    if i==50:\n",
    "        break\n",
    "    print(i)\n",
    "else:\n",
    "    print(\"something wrong\")"
   ]
  },
  {
   "cell_type": "code",
   "execution_count": 39,
   "metadata": {},
   "outputs": [
    {
     "name": "stdout",
     "output_type": "stream",
     "text": [
      "10\n",
      "20\n",
      "30\n",
      "40\n",
      "50\n",
      "70\n",
      "80\n",
      "90\n",
      "100\n"
     ]
    }
   ],
   "source": [
    "#countinue statement \n",
    "for i in a:\n",
    "    if i==60:\n",
    "        continue\n",
    "    print(i)\n"
   ]
  },
  {
   "cell_type": "code",
   "execution_count": 56,
   "metadata": {},
   "outputs": [
    {
     "name": "stdout",
     "output_type": "stream",
     "text": [
      " Enter the year : 2024\n",
      "2024 is a leap year\n"
     ]
    }
   ],
   "source": [
    "# all leap years from 1800 - 2021\n",
    "year=int(input(\" Enter the year : \"))\n",
    "if year%4==0 and year%100!=0:\n",
    "    print(f\"{year} is a leap year\")\n",
    "elif year%100==0 and year%400==0:\n",
    "    print(f\"{year} is a leap year\")\n",
    "else:\n",
    "    print(f\"{year} is a not leap year\")\n"
   ]
  },
  {
   "cell_type": "markdown",
   "metadata": {},
   "source": [
    "\n",
    "# User defined function "
   ]
  },
  {
   "cell_type": "code",
   "execution_count": 5,
   "metadata": {},
   "outputs": [],
   "source": [
    "#creating arethematic operators using user defined functions\n",
    "def sum1(a,b):\n",
    "    return a+b"
   ]
  },
  {
   "cell_type": "code",
   "execution_count": 6,
   "metadata": {},
   "outputs": [
    {
     "data": {
      "text/plain": [
       "30"
      ]
     },
     "execution_count": 6,
     "metadata": {},
     "output_type": "execute_result"
    }
   ],
   "source": [
    "sum1(10,20)"
   ]
  },
  {
   "cell_type": "code",
   "execution_count": 8,
   "metadata": {},
   "outputs": [],
   "source": [
    "def sub1(a,b):\n",
    "    return a-b"
   ]
  },
  {
   "cell_type": "code",
   "execution_count": 10,
   "metadata": {},
   "outputs": [
    {
     "data": {
      "text/plain": [
       "-10"
      ]
     },
     "execution_count": 10,
     "metadata": {},
     "output_type": "execute_result"
    }
   ],
   "source": [
    "sub1(10,20)"
   ]
  },
  {
   "cell_type": "code",
   "execution_count": 11,
   "metadata": {},
   "outputs": [],
   "source": [
    "def multi(a,b):\n",
    "    return a*b"
   ]
  },
  {
   "cell_type": "code",
   "execution_count": 12,
   "metadata": {},
   "outputs": [
    {
     "data": {
      "text/plain": [
       "200"
      ]
     },
     "execution_count": 12,
     "metadata": {},
     "output_type": "execute_result"
    }
   ],
   "source": [
    "multi(10,20)"
   ]
  },
  {
   "cell_type": "code",
   "execution_count": 13,
   "metadata": {},
   "outputs": [],
   "source": [
    "def div1(a,b):\n",
    "    return a/b"
   ]
  },
  {
   "cell_type": "code",
   "execution_count": 15,
   "metadata": {},
   "outputs": [
    {
     "data": {
      "text/plain": [
       "4.0"
      ]
     },
     "execution_count": 15,
     "metadata": {},
     "output_type": "execute_result"
    }
   ],
   "source": [
    "div1(20,5)"
   ]
  },
  {
   "cell_type": "code",
   "execution_count": null,
   "metadata": {},
   "outputs": [],
   "source": []
  },
  {
   "cell_type": "code",
   "execution_count": 57,
   "metadata": {},
   "outputs": [],
   "source": [
    "#Welcome With input \n",
    "def welcome(a):\n",
    "    a=\"Welcome to python programming langvage\"\n",
    "    return a"
   ]
  },
  {
   "cell_type": "code",
   "execution_count": 59,
   "metadata": {},
   "outputs": [
    {
     "data": {
      "text/plain": [
       "'Welcome to python programming langvage'"
      ]
     },
     "execution_count": 59,
     "metadata": {},
     "output_type": "execute_result"
    }
   ],
   "source": [
    "welcome(a)"
   ]
  },
  {
   "cell_type": "markdown",
   "metadata": {},
   "source": [
    "# Lambda function "
   ]
  },
  {
   "cell_type": "code",
   "execution_count": 60,
   "metadata": {},
   "outputs": [],
   "source": [
    "# sum using lambda function \n",
    "s=lambda x,y:x+y"
   ]
  },
  {
   "cell_type": "code",
   "execution_count": 61,
   "metadata": {},
   "outputs": [
    {
     "data": {
      "text/plain": [
       "30"
      ]
     },
     "execution_count": 61,
     "metadata": {},
     "output_type": "execute_result"
    }
   ],
   "source": [
    "s(10,20)"
   ]
  },
  {
   "cell_type": "code",
   "execution_count": 69,
   "metadata": {},
   "outputs": [
    {
     "data": {
      "text/plain": [
       "[1, 2, 3, 4, 5, 6, 7, 8, 9, 10]"
      ]
     },
     "execution_count": 69,
     "metadata": {},
     "output_type": "execute_result"
    }
   ],
   "source": [
    "# create a list using loop\n",
    "# Create a list of first 10 number using list comprehension\n",
    "[i for i in range(1,11)]\n"
   ]
  },
  {
   "cell_type": "code",
   "execution_count": 17,
   "metadata": {},
   "outputs": [
    {
     "data": {
      "text/plain": [
       "[10, 20, 30, 40, 50]"
      ]
     },
     "execution_count": 17,
     "metadata": {},
     "output_type": "execute_result"
    }
   ],
   "source": [
    "# select all the even number form the list with filter()\n",
    "l=[10,20,30,40,50,55]\n",
    "list(filter(lambda x:x%2==0,l))\n"
   ]
  },
  {
   "cell_type": "code",
   "execution_count": 18,
   "metadata": {},
   "outputs": [
    {
     "data": {
      "text/plain": [
       "[100, 400, 900, 1600, 2500]"
      ]
     },
     "execution_count": 18,
     "metadata": {},
     "output_type": "execute_result"
    }
   ],
   "source": [
    "# get  the squiares of numbers form the list with map()\n",
    "l=[10,20,30,40,50]\n",
    "list(map(lambda x : x**2,l))"
   ]
  },
  {
   "cell_type": "code",
   "execution_count": 24,
   "metadata": {},
   "outputs": [],
   "source": [
    "#get the sum of numbers of the list using reduce()"
   ]
  },
  {
   "cell_type": "code",
   "execution_count": 19,
   "metadata": {},
   "outputs": [],
   "source": [
    "l=[95,85,74,85,69,75]"
   ]
  },
  {
   "cell_type": "code",
   "execution_count": 22,
   "metadata": {},
   "outputs": [
    {
     "name": "stdout",
     "output_type": "stream",
     "text": [
      "483\n"
     ]
    }
   ],
   "source": [
    "n=0\n",
    "for i in l:\n",
    "    n=i+n\n",
    "print(n)"
   ]
  },
  {
   "cell_type": "code",
   "execution_count": 24,
   "metadata": {},
   "outputs": [],
   "source": [
    "from functools import reduce"
   ]
  },
  {
   "cell_type": "code",
   "execution_count": 26,
   "metadata": {},
   "outputs": [
    {
     "data": {
      "text/plain": [
       "483"
      ]
     },
     "execution_count": 26,
     "metadata": {},
     "output_type": "execute_result"
    }
   ],
   "source": [
    "reduce(lambda d,e : d+e,l)"
   ]
  },
  {
   "cell_type": "code",
   "execution_count": null,
   "metadata": {},
   "outputs": [],
   "source": []
  }
 ],
 "metadata": {
  "kernelspec": {
   "display_name": "Python 3 (ipykernel)",
   "language": "python",
   "name": "python3"
  },
  "language_info": {
   "codemirror_mode": {
    "name": "ipython",
    "version": 3
   },
   "file_extension": ".py",
   "mimetype": "text/x-python",
   "name": "python",
   "nbconvert_exporter": "python",
   "pygments_lexer": "ipython3",
   "version": "3.10.9"
  },
  "toc": {
   "base_numbering": 1,
   "nav_menu": {},
   "number_sections": true,
   "sideBar": true,
   "skip_h1_title": false,
   "title_cell": "Table of Contents",
   "title_sidebar": "Contents",
   "toc_cell": false,
   "toc_position": {},
   "toc_section_display": true,
   "toc_window_display": true
  }
 },
 "nbformat": 4,
 "nbformat_minor": 2
}
