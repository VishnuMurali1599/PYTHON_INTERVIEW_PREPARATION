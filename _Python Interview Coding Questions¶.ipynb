{
 "cells": [
  {
   "cell_type": "code",
   "execution_count": null,
   "id": "b14b73c3",
   "metadata": {},
   "outputs": [],
   "source": [
    "26/5/23"
   ]
  },
  {
   "cell_type": "code",
   "execution_count": null,
   "id": "80b7893e",
   "metadata": {},
   "outputs": [],
   "source": []
  },
  {
   "cell_type": "code",
   "execution_count": null,
   "id": "a535ec52",
   "metadata": {},
   "outputs": [],
   "source": []
  },
  {
   "cell_type": "code",
   "execution_count": null,
   "id": "aa73ea22",
   "metadata": {},
   "outputs": [],
   "source": [
    "1."
   ]
  },
  {
   "cell_type": "code",
   "execution_count": null,
   "id": "fe1b0a4c",
   "metadata": {},
   "outputs": [],
   "source": [
    "'''Write a function that takes an integer as input and returns \"Even\" if \n",
    "the number is even and \"Odd\" if the number is odd.'''"
   ]
  },
  {
   "cell_type": "code",
   "execution_count": 9,
   "id": "55a100e4",
   "metadata": {},
   "outputs": [],
   "source": [
    "def odd_even(n):\n",
    "    if n%2==0:\n",
    "        print(n ,\":\",\"Yes! ,you entered the even number \")\n",
    "    \n",
    "    elif n%2!=0:\n",
    "        print(n ,\":\",\"Yes! ,you entered the odd number \")\n",
    "\n",
    "    else:\n",
    "        print(\"You have entered wrong number\")"
   ]
  },
  {
   "cell_type": "code",
   "execution_count": 10,
   "id": "d73a562f",
   "metadata": {},
   "outputs": [
    {
     "name": "stdout",
     "output_type": "stream",
     "text": [
      "2 : Yes! ,you entered the even number \n"
     ]
    }
   ],
   "source": [
    "odd_even(2)"
   ]
  },
  {
   "cell_type": "code",
   "execution_count": 11,
   "id": "ee6eecfa",
   "metadata": {},
   "outputs": [
    {
     "name": "stdout",
     "output_type": "stream",
     "text": [
      "15 : Yes! ,you entered the odd number \n"
     ]
    }
   ],
   "source": [
    "odd_even(15)"
   ]
  },
  {
   "cell_type": "code",
   "execution_count": 14,
   "id": "1eab37e0",
   "metadata": {},
   "outputs": [
    {
     "name": "stdout",
     "output_type": "stream",
     "text": [
      "855.6 : Yes! ,you entered the odd number \n"
     ]
    }
   ],
   "source": [
    "odd_even(855.6)"
   ]
  },
  {
   "cell_type": "code",
   "execution_count": null,
   "id": "45321f22",
   "metadata": {},
   "outputs": [],
   "source": []
  },
  {
   "cell_type": "code",
   "execution_count": null,
   "id": "f1c04758",
   "metadata": {},
   "outputs": [],
   "source": []
  },
  {
   "cell_type": "code",
   "execution_count": null,
   "id": "50601b6a",
   "metadata": {},
   "outputs": [],
   "source": [
    "2."
   ]
  },
  {
   "cell_type": "code",
   "execution_count": null,
   "id": "15bd8be3",
   "metadata": {},
   "outputs": [],
   "source": [
    "'''Write a function that takes year as input and returns True \n",
    "if the year is a leap year, False otherwise.'''"
   ]
  },
  {
   "cell_type": "code",
   "execution_count": 42,
   "id": "39aa2c3a",
   "metadata": {},
   "outputs": [
    {
     "name": "stdout",
     "output_type": "stream",
     "text": [
      "enter the year : 2023\n",
      "2023 sorry it is not leap year\n"
     ]
    }
   ],
   "source": [
    "year=int(input(\"enter the year : \"))\n",
    "if year%4==0 and year%100 != 0:\n",
    "    print(year,\"yes ,it is leap year\")\n",
    "elif year % 100 == 0 and year % 400 == 0:\n",
    "    print(year,\"Yes it is leap year\")\n",
    "else:\n",
    "    print(year,\"sorry it is not leap year\")"
   ]
  },
  {
   "cell_type": "code",
   "execution_count": 43,
   "id": "358e3268",
   "metadata": {},
   "outputs": [],
   "source": [
    "def leap_year(year):\n",
    "    if year%4==0 and year%100 != 0:\n",
    "        print(year,\"yes ,it is leap year\")\n",
    "    elif year % 100 == 0 and year % 400 == 0:\n",
    "        print(year,\"Yes it is leap year\")\n",
    "    else:\n",
    "        print(year,\"sorry it is not leap year\")\n",
    "  \n",
    "    "
   ]
  },
  {
   "cell_type": "code",
   "execution_count": 44,
   "id": "71ba6536",
   "metadata": {},
   "outputs": [
    {
     "name": "stdout",
     "output_type": "stream",
     "text": [
      "2024 yes ,it is leap year\n"
     ]
    }
   ],
   "source": [
    "leap_year(2024)"
   ]
  },
  {
   "cell_type": "code",
   "execution_count": 45,
   "id": "c507c9f2",
   "metadata": {},
   "outputs": [
    {
     "name": "stdout",
     "output_type": "stream",
     "text": [
      "1900 sorry it is not leap year\n"
     ]
    }
   ],
   "source": [
    "leap_year(1900)"
   ]
  },
  {
   "cell_type": "code",
   "execution_count": 46,
   "id": "271e8ffa",
   "metadata": {},
   "outputs": [
    {
     "name": "stdout",
     "output_type": "stream",
     "text": [
      "2000 Yes it is leap year\n"
     ]
    }
   ],
   "source": [
    "leap_year(2000)"
   ]
  },
  {
   "cell_type": "code",
   "execution_count": 47,
   "id": "408723b9",
   "metadata": {},
   "outputs": [
    {
     "name": "stdout",
     "output_type": "stream",
     "text": [
      "2016 yes ,it is leap year\n"
     ]
    }
   ],
   "source": [
    "leap_year(2016)"
   ]
  },
  {
   "cell_type": "code",
   "execution_count": 48,
   "id": "822ca38f",
   "metadata": {},
   "outputs": [
    {
     "name": "stdout",
     "output_type": "stream",
     "text": [
      "2012 yes ,it is leap year\n"
     ]
    }
   ],
   "source": [
    "leap_year(2012)"
   ]
  },
  {
   "cell_type": "code",
   "execution_count": null,
   "id": "81c0a70d",
   "metadata": {},
   "outputs": [],
   "source": []
  },
  {
   "cell_type": "code",
   "execution_count": null,
   "id": "4e2183c6",
   "metadata": {},
   "outputs": [],
   "source": []
  },
  {
   "cell_type": "code",
   "execution_count": null,
   "id": "aede077e",
   "metadata": {},
   "outputs": [],
   "source": [
    "3."
   ]
  },
  {
   "cell_type": "code",
   "execution_count": null,
   "id": "0985880e",
   "metadata": {},
   "outputs": [],
   "source": [
    "'''Write a function that takes three numbers as inputs and \n",
    "returns the largest number among them'''"
   ]
  },
  {
   "cell_type": "code",
   "execution_count": 52,
   "id": "299c7c46",
   "metadata": {},
   "outputs": [
    {
     "name": "stdout",
     "output_type": "stream",
     "text": [
      "enter the 1st Number : 1\n",
      "enter the 2nd Number : 5\n",
      "enter the 3rd Number : 3\n",
      "the largest number is 5\n"
     ]
    }
   ],
   "source": [
    "n1=int(input(\"enter the 1st Number : \"))\n",
    "n2=int(input(\"enter the 2nd Number : \"))\n",
    "n3=int(input(\"enter the 3rd Number : \"))\n",
    "\n",
    "if n1 > n2 and n1>n3:\n",
    "    print(\"The largest number is\" ,n1)\n",
    "\n",
    "elif n2>n1  and n2>n3:\n",
    "    print(\"the largest number is\",n2)\n",
    "    \n",
    "else:\n",
    "    print(\"the largest number is\",n3)"
   ]
  },
  {
   "cell_type": "code",
   "execution_count": 53,
   "id": "948d4f65",
   "metadata": {},
   "outputs": [],
   "source": [
    "def lar_num(n1,n2,n3):\n",
    "    if n1 > n2 and n1>n3:\n",
    "        print(\"The largest number is\" ,n1)\n",
    "\n",
    "    elif n2>n1  and n2>n3:\n",
    "        print(\"the largest number is\",n2)\n",
    "    \n",
    "    else:\n",
    "        print(\"the largest number is\",n3)\n",
    "    "
   ]
  },
  {
   "cell_type": "code",
   "execution_count": 54,
   "id": "622335cf",
   "metadata": {},
   "outputs": [
    {
     "name": "stdout",
     "output_type": "stream",
     "text": [
      "the largest number is 30\n"
     ]
    }
   ],
   "source": [
    "lar_num(10,20,30)"
   ]
  },
  {
   "cell_type": "code",
   "execution_count": 55,
   "id": "d0193ced",
   "metadata": {},
   "outputs": [
    {
     "name": "stdout",
     "output_type": "stream",
     "text": [
      "The largest number is 5\n"
     ]
    }
   ],
   "source": [
    "lar_num(5,2,3)"
   ]
  },
  {
   "cell_type": "code",
   "execution_count": 56,
   "id": "0be62cc1",
   "metadata": {},
   "outputs": [
    {
     "name": "stdout",
     "output_type": "stream",
     "text": [
      "the largest number is 10\n"
     ]
    }
   ],
   "source": [
    "lar_num(1,5,10)"
   ]
  },
  {
   "cell_type": "code",
   "execution_count": null,
   "id": "0d142404",
   "metadata": {},
   "outputs": [],
   "source": []
  },
  {
   "cell_type": "code",
   "execution_count": null,
   "id": "2eb14911",
   "metadata": {},
   "outputs": [],
   "source": []
  },
  {
   "cell_type": "code",
   "execution_count": null,
   "id": "db749052",
   "metadata": {},
   "outputs": [],
   "source": [
    "4."
   ]
  },
  {
   "cell_type": "code",
   "execution_count": null,
   "id": "b741b64a",
   "metadata": {},
   "outputs": [],
   "source": [
    "'''Write a function that calculates the factorial of a number. The \n",
    "factorial of a non-negative integer n is the \n",
    "product of all positive integers less than or equal to n. \n",
    "it is denoted by n!'''"
   ]
  },
  {
   "cell_type": "code",
   "execution_count": 63,
   "id": "8ed6fcaf",
   "metadata": {},
   "outputs": [
    {
     "name": "stdout",
     "output_type": "stream",
     "text": [
      "enter the number : 6\n",
      "The factorial of a given number is :  720\n"
     ]
    }
   ],
   "source": [
    "n=int(input(\"enter the number : \"))\n",
    "factorial=1\n",
    "for i in range(1,n+1):\n",
    "    factorial=factorial *i\n",
    "print(\"The factorial of a given number is : \", factorial)"
   ]
  },
  {
   "cell_type": "code",
   "execution_count": 64,
   "id": "314d365f",
   "metadata": {},
   "outputs": [],
   "source": [
    "def fact_num(n):\n",
    "    factorial=1\n",
    "    for i in range(1,n+1):\n",
    "        factorial=factorial *i\n",
    "    print(\"The factorial of a given number is : \", factorial)\n",
    "    "
   ]
  },
  {
   "cell_type": "code",
   "execution_count": 65,
   "id": "1410ca8a",
   "metadata": {},
   "outputs": [
    {
     "name": "stdout",
     "output_type": "stream",
     "text": [
      "The factorial of a given number is :  120\n"
     ]
    }
   ],
   "source": [
    "fact_num(5)"
   ]
  },
  {
   "cell_type": "code",
   "execution_count": 66,
   "id": "629a0220",
   "metadata": {},
   "outputs": [
    {
     "name": "stdout",
     "output_type": "stream",
     "text": [
      "The factorial of a given number is :  3628800\n"
     ]
    }
   ],
   "source": [
    "fact_num(10)"
   ]
  },
  {
   "cell_type": "code",
   "execution_count": null,
   "id": "34dc7bfd",
   "metadata": {},
   "outputs": [],
   "source": []
  },
  {
   "cell_type": "code",
   "execution_count": null,
   "id": "0f3bc284",
   "metadata": {},
   "outputs": [],
   "source": []
  },
  {
   "cell_type": "code",
   "execution_count": null,
   "id": "e4d38bf4",
   "metadata": {},
   "outputs": [],
   "source": [
    "5."
   ]
  },
  {
   "cell_type": "code",
   "execution_count": null,
   "id": "8a153795",
   "metadata": {},
   "outputs": [],
   "source": [
    "'''Write a function that converts temperature from \n",
    "celsius to Fahrenheit and vice versa.'''"
   ]
  },
  {
   "cell_type": "code",
   "execution_count": 92,
   "id": "98ea33b1",
   "metadata": {},
   "outputs": [
    {
     "name": "stdout",
     "output_type": "stream",
     "text": [
      "enter the degree celsius value :  27\n",
      "the obtained result after converting from degree celsius to fahrenheit is : 80.6 F\n",
      "enter the Fahrenheit value :  80\n",
      "the obtained result after converting from  fahrenheit degree celsius  is : 26.666666666666668 C\n"
     ]
    }
   ],
   "source": [
    "value=int(input(\"enter the degree celsius value :  \"))\n",
    "fahrenheit=(value*9/5)+32\n",
    "print(\"the obtained result after converting from degree celsius to fahrenheit is :\",fahrenheit,\"F\")\n",
    "\n",
    "value=int(input(\"enter the Fahrenheit value :  \"))\n",
    "degreecelsius=(value-32)*5/9\n",
    "print(\"the obtained result after converting from  fahrenheit degree celsius  is :\",degreecelsius,\"C\")"
   ]
  },
  {
   "cell_type": "code",
   "execution_count": 98,
   "id": "cf148133",
   "metadata": {},
   "outputs": [],
   "source": [
    "def deg_frh_deg(value,value1):\n",
    "    #value=int(input(\"enter the degree celsius value :  \"))\n",
    "    fahrenheit=(value*9/5)+32\n",
    "    print(\"the obtained result after converting from degree celsius to fahrenheit is :\",fahrenheit,\"F\")\n",
    "\n",
    "    #value=int(input(\"enter the Fahrenheit value :  \"))\n",
    "    degreecelsius=(value1-32)*5/9\n",
    "    print(\"the obtained result after converting from  fahrenheit degree celsius  is :\",degreecelsius,\"C\")\n",
    "    "
   ]
  },
  {
   "cell_type": "code",
   "execution_count": 100,
   "id": "0062795a",
   "metadata": {},
   "outputs": [
    {
     "name": "stdout",
     "output_type": "stream",
     "text": [
      "the obtained result after converting from degree celsius to fahrenheit is : 80.6 F\n",
      "the obtained result after converting from  fahrenheit degree celsius  is : 26.666666666666668 C\n"
     ]
    }
   ],
   "source": [
    "deg_frh_deg(27,80)"
   ]
  },
  {
   "cell_type": "code",
   "execution_count": 101,
   "id": "16680e00",
   "metadata": {},
   "outputs": [
    {
     "name": "stdout",
     "output_type": "stream",
     "text": [
      "the obtained result after converting from degree celsius to fahrenheit is : 95.0 F\n",
      "the obtained result after converting from  fahrenheit degree celsius  is : 35.55555555555556 C\n"
     ]
    }
   ],
   "source": [
    "deg_frh_deg(35,96)"
   ]
  },
  {
   "cell_type": "code",
   "execution_count": 102,
   "id": "7474cd02",
   "metadata": {},
   "outputs": [
    {
     "name": "stdout",
     "output_type": "stream",
     "text": [
      "the obtained result after converting from degree celsius to fahrenheit is : 212.0 F\n",
      "the obtained result after converting from  fahrenheit degree celsius  is : 260.0 C\n"
     ]
    }
   ],
   "source": [
    "deg_frh_deg(100,500)"
   ]
  },
  {
   "cell_type": "code",
   "execution_count": null,
   "id": "94f386b5",
   "metadata": {},
   "outputs": [],
   "source": []
  }
 ],
 "metadata": {
  "kernelspec": {
   "display_name": "Python 3 (ipykernel)",
   "language": "python",
   "name": "python3"
  },
  "language_info": {
   "codemirror_mode": {
    "name": "ipython",
    "version": 3
   },
   "file_extension": ".py",
   "mimetype": "text/x-python",
   "name": "python",
   "nbconvert_exporter": "python",
   "pygments_lexer": "ipython3",
   "version": "3.10.9"
  }
 },
 "nbformat": 4,
 "nbformat_minor": 5
}
